{
 "cells": [
  {
   "cell_type": "code",
   "execution_count": 20,
   "metadata": {},
   "outputs": [],
   "source": [
    "#importing necessary packages\n",
    "import pandas as pd\n",
    "import requests\n",
    "import tweepy\n",
    "import matplotlib as plt\n",
    "import seaborn as sns\n",
    "import os\n",
    "%matplotlib inline"
   ]
  },
  {
   "cell_type": "markdown",
   "metadata": {},
   "source": [
    "#### Data wrangling is the process of cleaning data and making the data functionally fit for further data analysis. It involves three steps: Gathering , Asessing, Cleaning and Storing Data. We'll go through these steps one by one in this project"
   ]
  },
  {
   "cell_type": "markdown",
   "metadata": {},
   "source": [
    "### 1. Gathering Data: This step is intended to gather data that is required for the analysis. The data can be gathered through various methods. These methods involve:\n",
    "<li> Downloading data directly via webisites </li>\n",
    "<li> Downloading data programmatically using HTTP protocol </li>\n",
    "<li> Accessing data using APIs(Application Programming Interface) </li>"
   ]
  },
  {
   "cell_type": "code",
   "execution_count": 23,
   "metadata": {},
   "outputs": [],
   "source": [
    "#data folder name in the project directory\n",
    "data_folder_name = r'data'"
   ]
  },
  {
   "cell_type": "markdown",
   "metadata": {},
   "source": [
    "#### The following file was directly downloaded from the udacity website. This is a case of *Data Gathering: Downloading data directly via websites*"
   ]
  },
  {
   "cell_type": "code",
   "execution_count": 14,
   "metadata": {},
   "outputs": [],
   "source": [
    "tweets_basic = pd.read_csv(data_folder_name+r'\\twitter-archive-enhanced-2.csv')"
   ]
  },
  {
   "cell_type": "markdown",
   "metadata": {},
   "source": [
    "#### In the following, we'll request the data via requests lib. We'll then save the requested contents to a file. This is a case of *Data Gathering: Downloading data via Internet through HTTP protocol"
   ]
  },
  {
   "cell_type": "code",
   "execution_count": 43,
   "metadata": {},
   "outputs": [
    {
     "name": "stdout",
     "output_type": "stream",
     "text": [
      "not exists\n"
     ]
    }
   ],
   "source": [
    "dog_predictions_file_name = r'dog_predictions'\n",
    "if not os.path.exists(os.path.join(data_folder_name, dog_predictions_file_name)):\n",
    "    print('not exists')\n",
    "    dog_predictions = requests.get('https://d17h27t6h515a5.cloudfront.net/topher/2017/August/599fd2ad_image-predictions/image-predictions.tsv')\n",
    "    with open(os.path.join(data_folder_name, dog_predictions_file_name), mode='wb') as file:\n",
    "        file.write(dog_predictions.content)"
   ]
  },
  {
   "cell_type": "code",
   "execution_count": 53,
   "metadata": {},
   "outputs": [],
   "source": [
    "dog_predictions = pd.read_csv(os.path.join(data_folder_name, dog_predictions_file_name), sep='\\t', encoding='utf-8')"
   ]
  },
  {
   "cell_type": "markdown",
   "metadata": {},
   "source": [
    "#### In the following"
   ]
  }
 ],
 "metadata": {
  "kernelspec": {
   "display_name": "py3_env",
   "language": "python",
   "name": "py3_env"
  },
  "language_info": {
   "codemirror_mode": {
    "name": "ipython",
    "version": 3
   },
   "file_extension": ".py",
   "mimetype": "text/x-python",
   "name": "python",
   "nbconvert_exporter": "python",
   "pygments_lexer": "ipython3",
   "version": "3.8.8"
  }
 },
 "nbformat": 4,
 "nbformat_minor": 4
}
